{
 "cells": [
  {
   "cell_type": "markdown",
   "metadata": {},
   "source": [
    "Riddler Solution for 1/17/20\n",
    "Full description of problem can be found at https://fivethirtyeight.com/features/can-you-track-the-delirious-ducks/"
   ]
  },
  {
   "cell_type": "markdown",
   "metadata": {},
   "source": [
    "# Analytical Solution\n",
    "We can construct a matrix that describes the probability of reaching each square from any other square on the board. If we lay out the \"pond\" where each square is assigned a number we have: <br>\n",
    "|1|2|3| <br>\n",
    "|4|5|6| <br>\n",
    "|7|8|9| <br>\n",
    "Therefore, for the \"pond\" we have the $9\\times9$ matrix: <br>\n",
    "$$\\begin{bmatrix} 0 & 1/3 & 0 & 1/3 & 0 & 0 & 0 & 0 & 0 \\\\ 1/2 & 0 & 1/2 & 0 & 1/4 & 0 & 0 & 0 & 0 \\\\ 0 & 1/3 & 0 & 0 & 0 & 1/3 & 0 & 0 & 0 \\\\ 1/2 & 0 & 0 & 0 & 1/4 & 0 & 1/2 & 0 & 0 \\\\ 0 & 1/3 & 0 & 1/3 & 0 & 1/3 & 0 & 1/3 & 0 \\\\ 0 & 0 & 1/2 & 0 & 1/4 & 0 & 0 & 0 & 1/2 \\\\ 0 & 0 & 0 & 1/3 & 0 & 0 & 0 & 1/3 & 0 \\\\ 0 & 0 & 0 & 0 & 1/4 & 0 & 1/2 & 0 & 1/2 \\\\ 0 & 0 & 0 & 0 & 0 & 1/3 & 0 & 1/3 & 0 \\end{bmatrix}$$ <br>\n",
    "Each of the columns of this matrix add to 1. <br>\n",
    "We then describe the initial state of a duck with the state vector: <br>\n",
    "$$ s_0 = \\begin{bmatrix} 0\\\\0\\\\0\\\\0\\\\1\\\\0\\\\0\\\\0\\\\0\\\\ \\end{bmatrix} $$ <br>\n",
    "Of course, this can be generalized to any starting position of any duck. If we take the dot product of $s_0$ with the probability matrix $T$, we can see that we recover the appropriate probabilties of going to any postion in the pond."
   ]
  },
  {
   "cell_type": "code",
   "execution_count": 1,
   "metadata": {},
   "outputs": [
    {
     "name": "stdout",
     "output_type": "stream",
     "text": [
      "[[0.  ]\n",
      " [0.25]\n",
      " [0.  ]\n",
      " [0.25]\n",
      " [0.  ]\n",
      " [0.25]\n",
      " [0.  ]\n",
      " [0.25]\n",
      " [0.  ]]\n"
     ]
    }
   ],
   "source": [
    "import numpy as np\n",
    "\n",
    "T = np.array([[0.,1./3.,0.,1./3.,0.,0.,0.,0.,0.],\n",
    "              [1./2.,0.,1./2.,0.,1./4.,0.,0.,0.,0.],\n",
    "              [0.,1./3.,0.,0.,0.,1./3.,0.,0.,0.],\n",
    "              [1./2.,0.,0.,0.,1./4.,0.,1./2.,0.,0.],\n",
    "              [0.,1./3.,0.,1./3.,0.,1./3.,0.,1./3.,0.],\n",
    "              [0.,0.,1./2.,0.,1./4.,0.,0.,0.,1./2.],\n",
    "              [0.,0.,0.,1./3.,0.,0.,0.,1./3.,0.],\n",
    "              [0.,0.,0.,0.,1./4.,0.,1./2.,0.,1./2.],\n",
    "              [0.,0.,0.,0.,0.,1./3.,0.,1./3.,0.]])\n",
    "s0 = np.array([[0],[0],[0],[0],[1],[0],[0],[0],[0]])\n",
    "print(np.dot(T,s0))"
   ]
  },
  {
   "cell_type": "markdown",
   "metadata": {},
   "source": [
    "If we take $N$ steps we must raise $T$ to the $N$ power to determine the probability that the duck will be in a given square after that time. As a test, we know that the ducks can take the same first step and meet each other after just 1 step, so if we take the probability that they will meet up after $N$ steps: <br>\n",
    "$$ P_N = (T^N \\cdot s_0)^T \\cdot (T^N \\cdot s_0) $$ <br>\n",
    "And take $N=1$, we should get a probability of $1/4$"
   ]
  },
  {
   "cell_type": "code",
   "execution_count": 2,
   "metadata": {},
   "outputs": [
    {
     "data": {
      "text/plain": [
       "array([[0.25]])"
      ]
     },
     "execution_count": 2,
     "metadata": {},
     "output_type": "execute_result"
    }
   ],
   "source": [
    "np.dot(np.transpose((np.dot(np.linalg.matrix_power(T,1),s0))),(np.dot(np.linalg.matrix_power(T,1),s0)))"
   ]
  },
  {
   "cell_type": "markdown",
   "metadata": {},
   "source": [
    "Which we do. To find the average number of steps it takes for the ducks to converge we can take the weighted average of $N$ where the weight is $P_N$ for each step. However, we must also account for all of the paths where the ducks are likely to have already met up. For example, since $1/4$ of the time they will meet on the first move, there is only a $3/4$ chance that it takes more than 1 move. To account for this, we can also weight each $N$ by the probability it takes at least $N$ steps to get to $N$, which is $1 - \\prod_{N=1}^{N-1} P_N$. Therefore our final equation for the average number of steps it takes for the ducks to converge is: <br>\n",
    "$$ Steps_{avg} = \\sum_{N=1}^{\\inf} \\left( P_N N (1-\\prod_{N=1}^{N-1} P_N) \\right) $$"
   ]
  },
  {
   "cell_type": "code",
   "execution_count": 8,
   "metadata": {},
   "outputs": [
    {
     "name": "stdout",
     "output_type": "stream",
     "text": [
      "0.25\n",
      "Converged under threshold value in 1 steps\n",
      "0.0\n"
     ]
    }
   ],
   "source": [
    "avg_steps = 0\n",
    "N_max = 100\n",
    "thresh = 1e-10\n",
    "p_arr = np.zeros(N_max+1)\n",
    "for i in range(N_max):\n",
    "    if i == 0:\n",
    "        continue\n",
    "        \n",
    "    p_n = np.dot(np.transpose((np.dot(np.linalg.matrix_power(T,i),s0))),(np.dot(np.linalg.matrix_power(T,i),s0)))[0][0]\n",
    "    print(p_n)\n",
    "    diff = (p_n * i) * (1. - np.prod(p_arr,where=p_arr!=0))\n",
    "    avg_steps += diff\n",
    "    p_arr[i] = p_n\n",
    "#     print(diff)\n",
    "    \n",
    "    if diff < thresh:\n",
    "        print(f\"Converged under threshold value in {i} steps\")\n",
    "        break\n",
    "        \n",
    "print(avg_steps)"
   ]
  },
  {
   "cell_type": "code",
   "execution_count": 7,
   "metadata": {},
   "outputs": [
    {
     "data": {
      "text/plain": [
       "0.00225625"
      ]
     },
     "execution_count": 7,
     "metadata": {},
     "output_type": "execute_result"
    }
   ],
   "source": [
    "x = np.zeros(N_max)\n",
    "x[1] = 0.25\n",
    "x[2] = 0.19\n",
    "x[3] = 0.25\n",
    "x[4] = 0.19\n",
    "np.prod(x,where=x!=0)"
   ]
  },
  {
   "cell_type": "markdown",
   "metadata": {},
   "source": [
    "# Simulations"
   ]
  }
 ],
 "metadata": {
  "kernelspec": {
   "display_name": "Python 3",
   "language": "python",
   "name": "python3"
  },
  "language_info": {
   "codemirror_mode": {
    "name": "ipython",
    "version": 3
   },
   "file_extension": ".py",
   "mimetype": "text/x-python",
   "name": "python",
   "nbconvert_exporter": "python",
   "pygments_lexer": "ipython3",
   "version": "3.7.6"
  }
 },
 "nbformat": 4,
 "nbformat_minor": 2
}
